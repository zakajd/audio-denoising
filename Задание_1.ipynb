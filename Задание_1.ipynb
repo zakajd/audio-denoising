{
 "cells": [
  {
   "cell_type": "code",
   "execution_count": null,
   "metadata": {},
   "outputs": [],
   "source": []
  },
  {
   "cell_type": "code",
   "execution_count": 2,
   "metadata": {
    "ExecuteTime": {
     "end_time": "2020-10-20T21:31:31.525233Z",
     "start_time": "2020-10-20T21:31:31.517357Z"
    }
   },
   "outputs": [
    {
     "data": {
      "text/plain": [
       "120"
      ]
     },
     "execution_count": 2,
     "metadata": {},
     "output_type": "execute_result"
    }
   ],
   "source": [
    "input = [1, 2, 3, 4, 5]\n",
    "\n",
    "from functools import reduce\n",
    "# left = \n",
    "reduce(lambda x, y: x * y, input, 1)"
   ]
  },
  {
   "cell_type": "code",
   "execution_count": 1,
   "metadata": {
    "ExecuteTime": {
     "end_time": "2020-10-20T21:31:01.649503Z",
     "start_time": "2020-10-20T21:31:01.644153Z"
    }
   },
   "outputs": [],
   "source": [
    "def multiplicate(A):\n",
    "    left = []\n",
    "    pass\n",
    "\n",
    "\n",
    "def multiplicate_fast(A):\n",
    "    left = []\n",
    "    pass\n",
    "\n",
    "# Python3 program for A Product Array Puzzle \n",
    "def productArray(arr, n): \n",
    "  \n",
    "    # Base case \n",
    "    if n == 1: \n",
    "        print(0) \n",
    "        return\n",
    "  \n",
    "    i, temp = 1, 1\n",
    "  \n",
    "    # Allocate memory for the product array  \n",
    "    prod = [1 for i in range(n)] \n",
    "  \n",
    "    # Initialize the product array as 1  \n",
    "  \n",
    "    # In this loop, temp variable contains product of \n",
    "    # elements on left side excluding arr[i]  \n",
    "    for i in range(n): \n",
    "        prod[i] = temp \n",
    "        temp *= arr[i] \n",
    "  \n",
    "    # Initialize temp to 1 for product on right side  \n",
    "    temp = 1\n",
    "  \n",
    "    # In this loop, temp variable contains product of \n",
    "    # elements on right side excluding arr[i]  \n",
    "    for i in range(n - 1, -1, -1): \n",
    "        prod[i] *= temp \n",
    "        temp *= arr[i] \n",
    "  \n",
    "    # Print the constructed prod array  \n",
    "    for i in range(n): \n",
    "        print(prod[i], end = \" \") \n",
    "  \n",
    "    return"
   ]
  },
  {
   "cell_type": "code",
   "execution_count": null,
   "metadata": {},
   "outputs": [],
   "source": []
  }
 ],
 "metadata": {
  "kernelspec": {
   "display_name": "Python 3",
   "language": "python",
   "name": "python3"
  },
  "language_info": {
   "codemirror_mode": {
    "name": "ipython",
    "version": 3
   },
   "file_extension": ".py",
   "mimetype": "text/x-python",
   "name": "python",
   "nbconvert_exporter": "python",
   "pygments_lexer": "ipython3",
   "version": "3.6.9"
  }
 },
 "nbformat": 4,
 "nbformat_minor": 2
}
