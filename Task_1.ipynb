{
 "cells": [
  {
   "cell_type": "code",
   "execution_count": 1,
   "metadata": {},
   "outputs": [],
   "source": [
    "import numpy as np\n",
    "a = np.random.randint(1, 3, size=100)\n",
    "a = list(a)"
   ]
  },
  {
   "cell_type": "code",
   "execution_count": 2,
   "metadata": {
    "ExecuteTime": {
     "end_time": "2020-10-20T21:31:01.649503Z",
     "start_time": "2020-10-20T21:31:01.644153Z"
    }
   },
   "outputs": [],
   "source": [
    "from functools import reduce\n",
    "\n",
    "def multiplicate(A):\n",
    "    if len(A) <= 1:\n",
    "        print(\"Массив должен содержать не менее 2-х элементов\")\n",
    "    \n",
    "    total = reduce(lambda x, y: x * y, A, 1)\n",
    "    return [total // i for i in A]"
   ]
  },
  {
   "cell_type": "code",
   "execution_count": 3,
   "metadata": {},
   "outputs": [
    {
     "name": "stdout",
     "output_type": "stream",
     "text": [
      "30.6 µs ± 396 ns per loop (mean ± std. dev. of 7 runs, 10000 loops each)\n"
     ]
    }
   ],
   "source": [
    "%timeit multiplicate(a)"
   ]
  },
  {
   "cell_type": "code",
   "execution_count": 4,
   "metadata": {},
   "outputs": [],
   "source": [
    "def multiplicate_2(A):\n",
    "    length = len(A)\n",
    "    if length <= 1:\n",
    "        print(\"Массив должен содержать не менее 2-х элементов\")\n",
    "    result = []\n",
    "    left_total = 1\n",
    "    for e in A:\n",
    "        result.append(left_total)\n",
    "        left_total *= e\n",
    "       \n",
    "    right_total = 1\n",
    "    for i in range(length - 1, -1, -1):\n",
    "        result[i] *= right_total\n",
    "        right_total *= A[i]\n",
    "    return result\n"
   ]
  },
  {
   "cell_type": "code",
   "execution_count": 5,
   "metadata": {},
   "outputs": [
    {
     "name": "stdout",
     "output_type": "stream",
     "text": [
      "46.8 µs ± 317 ns per loop (mean ± std. dev. of 7 runs, 10000 loops each)\n"
     ]
    }
   ],
   "source": [
    " %timeit multiplicate_2(a)"
   ]
  },
  {
   "cell_type": "markdown",
   "metadata": {},
   "source": [
    "## Описание решения:\n",
    "Первая функция содержит использование functools.reduce, позволяющее найти произведение всех элементов массива, после чего результат получается поэлементным делением. \n",
    "\n",
    "Вторая функция считает сначала произведение всех элементов слева от данного, затем произведение всех элементов справа от данного, после чего эти значения перемножаются для получения ответа.\n",
    "\n",
    "Обе функции предполагают, что вход не содерижт 0 и результат произведения умещается в int32. В противном случае, можно дополнить код нескольки конструкциями if - else для обработки исключений\n",
    "\n",
    "Времена сложность обоих решений O(n)"
   ]
  },
  {
   "cell_type": "code",
   "execution_count": null,
   "metadata": {},
   "outputs": [],
   "source": []
  }
 ],
 "metadata": {
  "kernelspec": {
   "display_name": "Python 3",
   "language": "python",
   "name": "python3"
  },
  "language_info": {
   "codemirror_mode": {
    "name": "ipython",
    "version": 3
   },
   "file_extension": ".py",
   "mimetype": "text/x-python",
   "name": "python",
   "nbconvert_exporter": "python",
   "pygments_lexer": "ipython3",
   "version": "3.8.5"
  }
 },
 "nbformat": 4,
 "nbformat_minor": 2
}
